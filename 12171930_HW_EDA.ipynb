{
 "cells": [
  {
   "cell_type": "markdown",
   "metadata": {},
   "source": [
    "# EDA\n",
    "\n",
    "> 변수\n",
    "- goods : 상품이름\n",
    "- brand : 브랜드\n",
    "- price : 가격\n",
    "- review_count : 리뷰 수"
   ]
  },
  {
   "cell_type": "code",
   "execution_count": 1,
   "metadata": {
    "ExecuteTime": {
     "end_time": "2021-11-30T09:00:26.670774Z",
     "start_time": "2021-11-30T09:00:25.851778Z"
    }
   },
   "outputs": [],
   "source": [
    "import pandas as pd\n",
    "import numpy as np\n",
    "import warnings\n",
    "warnings.filterwarnings(\"ignore\")\n",
    "\n",
    "pd.options.display.float_format = '{:.2f}'.format # 소수점 2자리까지 표현\n",
    "\n",
    "%matplotlib inline"
   ]
  },
  {
   "cell_type": "code",
   "execution_count": 2,
   "metadata": {
    "ExecuteTime": {
     "end_time": "2021-11-30T09:00:27.356403Z",
     "start_time": "2021-11-30T09:00:27.248132Z"
    }
   },
   "outputs": [],
   "source": [
    "musinsa_data = pd.read_excel('Musinsa_Data.xlsx').iloc[:,1:]"
   ]
  },
  {
   "cell_type": "code",
   "execution_count": 3,
   "metadata": {
    "ExecuteTime": {
     "end_time": "2021-11-30T09:00:27.894205Z",
     "start_time": "2021-11-30T09:00:27.872203Z"
    }
   },
   "outputs": [
    {
     "data": {
      "text/html": [
       "<div>\n",
       "<style scoped>\n",
       "    .dataframe tbody tr th:only-of-type {\n",
       "        vertical-align: middle;\n",
       "    }\n",
       "\n",
       "    .dataframe tbody tr th {\n",
       "        vertical-align: top;\n",
       "    }\n",
       "\n",
       "    .dataframe thead th {\n",
       "        text-align: right;\n",
       "    }\n",
       "</style>\n",
       "<table border=\"1\" class=\"dataframe\">\n",
       "  <thead>\n",
       "    <tr style=\"text-align: right;\">\n",
       "      <th></th>\n",
       "      <th>goods</th>\n",
       "      <th>brand</th>\n",
       "      <th>price</th>\n",
       "      <th>review_count</th>\n",
       "    </tr>\n",
       "  </thead>\n",
       "  <tbody>\n",
       "    <tr>\n",
       "      <th>0</th>\n",
       "      <td>캐시미어 더블 롱 코트 BLACK</td>\n",
       "      <td>인사일런스</td>\n",
       "      <td>289,000</td>\n",
       "      <td>8,526</td>\n",
       "    </tr>\n",
       "    <tr>\n",
       "      <th>1</th>\n",
       "      <td>[이동휘 착용][3M 신슐레이트]오리지널 M-1965 피쉬테일 파카_Original...</td>\n",
       "      <td>라퍼지스토어</td>\n",
       "      <td>138,000</td>\n",
       "      <td>6,446</td>\n",
       "    </tr>\n",
       "    <tr>\n",
       "      <th>2</th>\n",
       "      <td>MTR 오버핏 더블 롱 코트 (블랙)</td>\n",
       "      <td>쿠어</td>\n",
       "      <td>334,000</td>\n",
       "      <td>5,255</td>\n",
       "    </tr>\n",
       "    <tr>\n",
       "      <th>3</th>\n",
       "      <td>[PRAUDEN] 유틸리티 덕다운 푸파 숏패딩_라이트그레이</td>\n",
       "      <td>코드그라피</td>\n",
       "      <td>124,000</td>\n",
       "      <td>1,870</td>\n",
       "    </tr>\n",
       "    <tr>\n",
       "      <th>4</th>\n",
       "      <td>울리치 트렌치 맥코트_Black</td>\n",
       "      <td>라퍼지 포 우먼</td>\n",
       "      <td>163,000</td>\n",
       "      <td>2,444</td>\n",
       "    </tr>\n",
       "    <tr>\n",
       "      <th>...</th>\n",
       "      <td>...</td>\n",
       "      <td>...</td>\n",
       "      <td>...</td>\n",
       "      <td>...</td>\n",
       "    </tr>\n",
       "    <tr>\n",
       "      <th>895</th>\n",
       "      <td>울리치 오버핏 블루종 점퍼_Black</td>\n",
       "      <td>라퍼지스토어</td>\n",
       "      <td>108,000</td>\n",
       "      <td>39</td>\n",
       "    </tr>\n",
       "    <tr>\n",
       "      <th>896</th>\n",
       "      <td>비전3 봄버 다운 자켓 YELLOW</td>\n",
       "      <td>코닥</td>\n",
       "      <td>419,000</td>\n",
       "      <td>6</td>\n",
       "    </tr>\n",
       "    <tr>\n",
       "      <th>897</th>\n",
       "      <td>[3M 신슐레이트]쉬링 피셔맨 패딩_Gray</td>\n",
       "      <td>라퍼지스토어</td>\n",
       "      <td>114,000</td>\n",
       "      <td>20</td>\n",
       "    </tr>\n",
       "    <tr>\n",
       "      <th>898</th>\n",
       "      <td>ECO LEATHER SINGLE BREASTED BLAZER BROWN</td>\n",
       "      <td>프렌다</td>\n",
       "      <td>169,000</td>\n",
       "      <td>10</td>\n",
       "    </tr>\n",
       "    <tr>\n",
       "      <th>899</th>\n",
       "      <td>울 트위드 필드 셔츠 자켓 (블랙)</td>\n",
       "      <td>노이어</td>\n",
       "      <td>165,000</td>\n",
       "      <td>6</td>\n",
       "    </tr>\n",
       "  </tbody>\n",
       "</table>\n",
       "<p>900 rows × 4 columns</p>\n",
       "</div>"
      ],
      "text/plain": [
       "                                                 goods     brand    price  \\\n",
       "0                                   캐시미어 더블 롱 코트 BLACK     인사일런스  289,000   \n",
       "1    [이동휘 착용][3M 신슐레이트]오리지널 M-1965 피쉬테일 파카_Original...    라퍼지스토어  138,000   \n",
       "2                                 MTR 오버핏 더블 롱 코트 (블랙)        쿠어  334,000   \n",
       "3                     [PRAUDEN] 유틸리티 덕다운 푸파 숏패딩_라이트그레이     코드그라피  124,000   \n",
       "4                                    울리치 트렌치 맥코트_Black  라퍼지 포 우먼  163,000   \n",
       "..                                                 ...       ...      ...   \n",
       "895                               울리치 오버핏 블루종 점퍼_Black    라퍼지스토어  108,000   \n",
       "896                                비전3 봄버 다운 자켓 YELLOW        코닥  419,000   \n",
       "897                           [3M 신슐레이트]쉬링 피셔맨 패딩_Gray    라퍼지스토어  114,000   \n",
       "898           ECO LEATHER SINGLE BREASTED BLAZER BROWN       프렌다  169,000   \n",
       "899                                울 트위드 필드 셔츠 자켓 (블랙)       노이어  165,000   \n",
       "\n",
       "    review_count  \n",
       "0          8,526  \n",
       "1          6,446  \n",
       "2          5,255  \n",
       "3          1,870  \n",
       "4          2,444  \n",
       "..           ...  \n",
       "895           39  \n",
       "896            6  \n",
       "897           20  \n",
       "898           10  \n",
       "899            6  \n",
       "\n",
       "[900 rows x 4 columns]"
      ]
     },
     "execution_count": 3,
     "metadata": {},
     "output_type": "execute_result"
    }
   ],
   "source": [
    "musinsa_data"
   ]
  },
  {
   "cell_type": "markdown",
   "metadata": {},
   "source": [
    "## DataFrame"
   ]
  },
  {
   "cell_type": "code",
   "execution_count": 4,
   "metadata": {
    "ExecuteTime": {
     "end_time": "2021-11-30T09:00:31.736998Z",
     "start_time": "2021-11-30T09:00:31.732998Z"
    }
   },
   "outputs": [],
   "source": [
    "data = musinsa_data.copy()"
   ]
  },
  {
   "cell_type": "code",
   "execution_count": 5,
   "metadata": {
    "ExecuteTime": {
     "end_time": "2021-11-30T09:00:32.285555Z",
     "start_time": "2021-11-30T09:00:32.281000Z"
    }
   },
   "outputs": [
    {
     "data": {
      "text/plain": [
       "(900, 4)"
      ]
     },
     "execution_count": 5,
     "metadata": {},
     "output_type": "execute_result"
    }
   ],
   "source": [
    "data.shape"
   ]
  },
  {
   "cell_type": "code",
   "execution_count": 6,
   "metadata": {
    "ExecuteTime": {
     "end_time": "2021-11-30T09:00:32.863579Z",
     "start_time": "2021-11-30T09:00:32.858606Z"
    }
   },
   "outputs": [
    {
     "data": {
      "text/plain": [
       "Index(['goods', 'brand', 'price', 'review_count'], dtype='object')"
      ]
     },
     "execution_count": 6,
     "metadata": {},
     "output_type": "execute_result"
    }
   ],
   "source": [
    "data.columns"
   ]
  },
  {
   "cell_type": "code",
   "execution_count": 7,
   "metadata": {
    "ExecuteTime": {
     "end_time": "2021-11-30T09:00:35.267768Z",
     "start_time": "2021-11-30T09:00:35.261755Z"
    }
   },
   "outputs": [
    {
     "name": "stdout",
     "output_type": "stream",
     "text": [
      "<class 'pandas.core.frame.DataFrame'>\n",
      "RangeIndex: 900 entries, 0 to 899\n",
      "Data columns (total 4 columns):\n",
      " #   Column        Non-Null Count  Dtype \n",
      "---  ------        --------------  ----- \n",
      " 0   goods         900 non-null    object\n",
      " 1   brand         900 non-null    object\n",
      " 2   price         900 non-null    object\n",
      " 3   review_count  823 non-null    object\n",
      "dtypes: object(4)\n",
      "memory usage: 28.2+ KB\n"
     ]
    }
   ],
   "source": [
    "data.info()"
   ]
  },
  {
   "cell_type": "code",
   "execution_count": 8,
   "metadata": {
    "ExecuteTime": {
     "end_time": "2021-11-30T09:00:59.440418Z",
     "start_time": "2021-11-30T09:00:59.432423Z"
    }
   },
   "outputs": [
    {
     "name": "stdout",
     "output_type": "stream",
     "text": [
      "goods's null count : 0\n",
      "brand's null count : 0\n",
      "price's null count : 0\n",
      "review_count's null count : 77\n"
     ]
    }
   ],
   "source": [
    "# 결측값 수 확인\n",
    "columns = data.columns\n",
    "for column in columns:\n",
    "    print(\"{}'s null count : {}\".format(column,data[column].isnull().sum()))"
   ]
  },
  {
   "cell_type": "code",
   "execution_count": 9,
   "metadata": {
    "ExecuteTime": {
     "end_time": "2021-11-30T09:01:01.016240Z",
     "start_time": "2021-11-30T09:01:01.002049Z"
    }
   },
   "outputs": [],
   "source": [
    "# review_count의 null값은 0\n",
    "data.loc[data['review_count'].isnull(),'review_count'] = 0"
   ]
  },
  {
   "cell_type": "code",
   "execution_count": 10,
   "metadata": {
    "ExecuteTime": {
     "end_time": "2021-11-30T09:01:01.873659Z",
     "start_time": "2021-11-30T09:01:01.868686Z"
    }
   },
   "outputs": [
    {
     "name": "stdout",
     "output_type": "stream",
     "text": [
      "goods's null count : 0\n",
      "brand's null count : 0\n",
      "price's null count : 0\n",
      "review_count's null count : 0\n"
     ]
    }
   ],
   "source": [
    "# review_count의 null값 0으로 바꾼 후 결측값 수 확인\n",
    "columns = data.columns\n",
    "for column in columns:\n",
    "    print(\"{}'s null count : {}\".format(column,data[column].isnull().sum()))"
   ]
  },
  {
   "cell_type": "code",
   "execution_count": 11,
   "metadata": {
    "ExecuteTime": {
     "end_time": "2021-11-30T09:01:04.553058Z",
     "start_time": "2021-11-30T09:01:04.251372Z"
    },
    "scrolled": true
   },
   "outputs": [],
   "source": [
    "# price, review_count -> int형으로\n",
    "for i in range(len(data['price'])):\n",
    "    data.loc[i,'price'] = str(data.loc[i,'price']).replace(',','')\n",
    "    data.loc[i,'review_count'] = str(data.loc[i,'review_count']).replace(',','')\n",
    "\n",
    "data['price'] = data['price'].astype(int)\n",
    "data['review_count'] = data['review_count'].astype(int)"
   ]
  },
  {
   "cell_type": "code",
   "execution_count": 12,
   "metadata": {
    "ExecuteTime": {
     "end_time": "2021-11-30T09:01:05.099112Z",
     "start_time": "2021-11-30T09:01:05.094906Z"
    }
   },
   "outputs": [],
   "source": [
    "goods = data.loc[:,'goods']\n",
    "brand = data.loc[:,'brand']\n",
    "price = data.loc[:,'price']\n",
    "review_count = data.loc[:,'review_count']"
   ]
  },
  {
   "cell_type": "code",
   "execution_count": 13,
   "metadata": {
    "ExecuteTime": {
     "end_time": "2021-11-30T09:01:06.429977Z",
     "start_time": "2021-11-30T09:01:06.421961Z"
    }
   },
   "outputs": [
    {
     "name": "stdout",
     "output_type": "stream",
     "text": [
      "<class 'pandas.core.frame.DataFrame'>\n",
      "RangeIndex: 900 entries, 0 to 899\n",
      "Data columns (total 4 columns):\n",
      " #   Column        Non-Null Count  Dtype \n",
      "---  ------        --------------  ----- \n",
      " 0   goods         900 non-null    object\n",
      " 1   brand         900 non-null    object\n",
      " 2   price         900 non-null    int32 \n",
      " 3   review_count  900 non-null    int32 \n",
      "dtypes: int32(2), object(2)\n",
      "memory usage: 21.2+ KB\n"
     ]
    }
   ],
   "source": [
    "data.info()"
   ]
  },
  {
   "cell_type": "code",
   "execution_count": 14,
   "metadata": {
    "ExecuteTime": {
     "end_time": "2021-11-30T09:01:07.340230Z",
     "start_time": "2021-11-30T09:01:07.325227Z"
    }
   },
   "outputs": [
    {
     "data": {
      "text/html": [
       "<div>\n",
       "<style scoped>\n",
       "    .dataframe tbody tr th:only-of-type {\n",
       "        vertical-align: middle;\n",
       "    }\n",
       "\n",
       "    .dataframe tbody tr th {\n",
       "        vertical-align: top;\n",
       "    }\n",
       "\n",
       "    .dataframe thead th {\n",
       "        text-align: right;\n",
       "    }\n",
       "</style>\n",
       "<table border=\"1\" class=\"dataframe\">\n",
       "  <thead>\n",
       "    <tr style=\"text-align: right;\">\n",
       "      <th></th>\n",
       "      <th>price</th>\n",
       "      <th>review_count</th>\n",
       "    </tr>\n",
       "  </thead>\n",
       "  <tbody>\n",
       "    <tr>\n",
       "      <th>count</th>\n",
       "      <td>900.00</td>\n",
       "      <td>900.00</td>\n",
       "    </tr>\n",
       "    <tr>\n",
       "      <th>mean</th>\n",
       "      <td>231447.00</td>\n",
       "      <td>709.40</td>\n",
       "    </tr>\n",
       "    <tr>\n",
       "      <th>std</th>\n",
       "      <td>151127.11</td>\n",
       "      <td>2893.25</td>\n",
       "    </tr>\n",
       "    <tr>\n",
       "      <th>min</th>\n",
       "      <td>29900.00</td>\n",
       "      <td>0.00</td>\n",
       "    </tr>\n",
       "    <tr>\n",
       "      <th>25%</th>\n",
       "      <td>139900.00</td>\n",
       "      <td>7.00</td>\n",
       "    </tr>\n",
       "    <tr>\n",
       "      <th>50%</th>\n",
       "      <td>199000.00</td>\n",
       "      <td>32.00</td>\n",
       "    </tr>\n",
       "    <tr>\n",
       "      <th>75%</th>\n",
       "      <td>289000.00</td>\n",
       "      <td>209.25</td>\n",
       "    </tr>\n",
       "    <tr>\n",
       "      <th>max</th>\n",
       "      <td>1880000.00</td>\n",
       "      <td>40293.00</td>\n",
       "    </tr>\n",
       "  </tbody>\n",
       "</table>\n",
       "</div>"
      ],
      "text/plain": [
       "           price  review_count\n",
       "count     900.00        900.00\n",
       "mean   231447.00        709.40\n",
       "std    151127.11       2893.25\n",
       "min     29900.00          0.00\n",
       "25%    139900.00          7.00\n",
       "50%    199000.00         32.00\n",
       "75%    289000.00        209.25\n",
       "max   1880000.00      40293.00"
      ]
     },
     "execution_count": 14,
     "metadata": {},
     "output_type": "execute_result"
    }
   ],
   "source": [
    "data.describe()"
   ]
  },
  {
   "cell_type": "markdown",
   "metadata": {},
   "source": [
    "## goods\n",
    "- 상품명"
   ]
  },
  {
   "cell_type": "code",
   "execution_count": 15,
   "metadata": {
    "ExecuteTime": {
     "end_time": "2021-11-30T09:01:11.490886Z",
     "start_time": "2021-11-30T09:01:11.483883Z"
    }
   },
   "outputs": [
    {
     "data": {
      "text/plain": [
       "WARM UP QUILTING JACKET IVORY              1\n",
       "LONELY/LOVELY ZIP-UP HOODIE BLACK          1\n",
       "U마카롱후디자켓 CM                                1\n",
       "CORDUROY VARSITY JACKET _ NAVY             1\n",
       "3M 신슐레이트 퀼팅 롱 패딩 블랙                        1\n",
       "                                          ..\n",
       "CASHMERE BLENDED ROUND CARDIGAN IVORY      1\n",
       "[3M 신슐레이트]쉬링 피셔맨 패딩_Gray                   1\n",
       "울리치 오버핏 블루종 점퍼_Black                       1\n",
       "cold weather down parka orange             1\n",
       "Oversized hooded Puffer Down Light Gray    1\n",
       "Name: goods, Length: 900, dtype: int64"
      ]
     },
     "execution_count": 15,
     "metadata": {},
     "output_type": "execute_result"
    }
   ],
   "source": [
    "# 겹치는 상품명 없음\n",
    "goods.value_counts()"
   ]
  },
  {
   "cell_type": "code",
   "execution_count": 16,
   "metadata": {
    "ExecuteTime": {
     "end_time": "2021-11-30T09:01:14.218781Z",
     "start_time": "2021-11-30T09:01:14.114785Z"
    }
   },
   "outputs": [
    {
     "name": "stdout",
     "output_type": "stream",
     "text": [
      "검정 아우터 수 : 319\n",
      "흰색 아우터 수 : 17\n",
      "회색 아우터 수 : 95\n"
     ]
    }
   ],
   "source": [
    "# 검은색, 회색, 하얀색 옷의 갯수 확인\n",
    "# 옷 이름에 색이 언급된 수임\n",
    "# 모든 옷의 색을 반영하지는 못함\n",
    "black_cnt = 0\n",
    "white_cnt = 0\n",
    "grey_cnt = 0\n",
    "for i in range(len(goods)):\n",
    "    if ('검은' in goods[i]) or ('검정' in goods[i]) or ('BLACK' in goods[i]) or ('Black' in goods[i]) or ('블랙' in goods[i]):\n",
    "        black_cnt += 1\n",
    "    elif ('흰' in goods[i]) or ('하얀' in goods[i]) or ('WHITE' in goods[i]) or ('White' in goods[i]) or ('화이트' in goods[i]):\n",
    "        white_cnt += 1\n",
    "    elif ('회색' in goods[i]) or ('Grey' in goods[i]) or ('GREY' in goods[i]) or ('그레이' in goods[i]):\n",
    "        grey_cnt += 1\n",
    "\n",
    "print('검정 아우터 수 : {}'.format(black_cnt))\n",
    "print('흰색 아우터 수 : {}'.format(white_cnt))\n",
    "print('회색 아우터 수 : {}'.format(grey_cnt))"
   ]
  },
  {
   "cell_type": "markdown",
   "metadata": {},
   "source": [
    "## price\n",
    "- 분포 확인 -> transformation?\n",
    "- 이상치 확인"
   ]
  },
  {
   "cell_type": "code",
   "execution_count": 17,
   "metadata": {
    "ExecuteTime": {
     "end_time": "2021-11-30T09:01:17.321879Z",
     "start_time": "2021-11-30T09:01:17.313879Z"
    }
   },
   "outputs": [
    {
     "data": {
      "text/plain": [
       "count       900.00\n",
       "mean     231447.00\n",
       "std      151127.11\n",
       "min       29900.00\n",
       "25%      139900.00\n",
       "50%      199000.00\n",
       "75%      289000.00\n",
       "max     1880000.00\n",
       "Name: price, dtype: float64"
      ]
     },
     "execution_count": 17,
     "metadata": {},
     "output_type": "execute_result"
    }
   ],
   "source": [
    "price.describe()"
   ]
  },
  {
   "cell_type": "markdown",
   "metadata": {},
   "source": [
    "### histogram & boxplot"
   ]
  },
  {
   "cell_type": "code",
   "execution_count": 19,
   "metadata": {
    "ExecuteTime": {
     "end_time": "2021-11-30T09:01:41.424101Z",
     "start_time": "2021-11-30T09:01:40.380110Z"
    }
   },
   "outputs": [
    {
     "data": {
      "image/png": "[encoded data removed]",
      "text/plain": [
       "<Figure size 720x360 with 1 Axes>"
      ]
     },
     "metadata": {},
     "output_type": "display_data"
    }
   ],
   "source": [
    "import matplotlib.pyplot as plt\n",
    "import seaborn as sns\n",
    "\n",
    "sns.set(style='darkgrid')\n",
    "plt.figure(figsize=(10,5))\n",
    "\n",
    "plt.hist(price)\n",
    "plt.xticks(range(0, 2500000,100000))\n",
    "\n",
    "plt.title('Histogram of Price')\n",
    "plt.ylabel('Count')\n",
    "plt.xlabel('Price')\n",
    "plt.show()"
   ]
  },
  {
   "cell_type": "code",
   "execution_count": 20,
   "metadata": {
    "ExecuteTime": {
     "end_time": "2021-11-30T09:01:43.382950Z",
     "start_time": "2021-11-30T09:01:43.179915Z"
    }
   },
   "outputs": [
    {
     "data": {
      "image/png": "[encoded data removed]",
      "text/plain": [
       "<Figure size 720x360 with 1 Axes>"
      ]
     },
     "metadata": {},
     "output_type": "display_data"
    }
   ],
   "source": [
    "sns.set(style='darkgrid')\n",
    "plt.figure(figsize=(10,5))\n",
    "\n",
    "plt.hist(np.log(price))\n",
    "\n",
    "plt.title('Histogram of log(Price)')\n",
    "plt.ylabel('Count')\n",
    "plt.xlabel('log(Price)')\n",
    "plt.show()"
   ]
  },
  {
   "cell_type": "code",
   "execution_count": 21,
   "metadata": {
    "ExecuteTime": {
     "end_time": "2021-11-30T09:01:44.113243Z",
     "start_time": "2021-11-30T09:01:44.000913Z"
    },
    "scrolled": true
   },
   "outputs": [
    {
     "data": {
      "image/png": "[encoded data removed]",
      "text/plain": [
       "<Figure size 720x360 with 1 Axes>"
      ]
     },
     "metadata": {},
     "output_type": "display_data"
    }
   ],
   "source": [
    "sns.set(style='darkgrid')\n",
    "plt.figure(figsize=(10,5))\n",
    "\n",
    "plt.boxplot(price)\n",
    "\n",
    "plt.title('Boxplot of Price')\n",
    "plt.ylabel('Price')\n",
    "plt.show()"
   ]
  },
  {
   "cell_type": "markdown",
   "metadata": {},
   "source": [
    "### outliers"
   ]
  },
  {
   "cell_type": "code",
   "execution_count": 22,
   "metadata": {
    "ExecuteTime": {
     "end_time": "2021-11-30T09:01:45.481731Z",
     "start_time": "2021-11-30T09:01:45.477731Z"
    },
    "scrolled": true
   },
   "outputs": [],
   "source": [
    "# IQR기반한 outliers\n",
    "def detect_outliers(df, feature):\n",
    "    outlier_indices = [] \n",
    "    Q1 = np.percentile(df[feature], 25) \n",
    "    Q3 = np.percentile(df[feature], 75) \n",
    "    IQR = Q3 - Q1 \n",
    "    outlier_step = 1.5 * IQR \n",
    "    outlier_list_col = df[(df[feature] < Q1 - outlier_step) | (df[feature] > Q3 + outlier_step)].index \n",
    "    outlier_indices.extend(outlier_list_col)\n",
    "    \n",
    "    return outlier_indices"
   ]
  },
  {
   "cell_type": "code",
   "execution_count": 23,
   "metadata": {
    "ExecuteTime": {
     "end_time": "2021-11-30T09:01:46.104311Z",
     "start_time": "2021-11-30T09:01:46.072317Z"
    },
    "scrolled": true
   },
   "outputs": [
    {
     "data": {
      "text/html": [
       "<div>\n",
       "<style scoped>\n",
       "    .dataframe tbody tr th:only-of-type {\n",
       "        vertical-align: middle;\n",
       "    }\n",
       "\n",
       "    .dataframe tbody tr th {\n",
       "        vertical-align: top;\n",
       "    }\n",
       "\n",
       "    .dataframe thead th {\n",
       "        text-align: right;\n",
       "    }\n",
       "</style>\n",
       "<table border=\"1\" class=\"dataframe\">\n",
       "  <thead>\n",
       "    <tr style=\"text-align: right;\">\n",
       "      <th></th>\n",
       "      <th>goods</th>\n",
       "      <th>brand</th>\n",
       "      <th>price</th>\n",
       "      <th>review_count</th>\n",
       "    </tr>\n",
       "  </thead>\n",
       "  <tbody>\n",
       "    <tr>\n",
       "      <th>37</th>\n",
       "      <td>DV.LOT 657 SHADOW B-3 Mouton Jacket -Plain- 21...</td>\n",
       "      <td>디아프바인</td>\n",
       "      <td>1740000</td>\n",
       "      <td>6</td>\n",
       "    </tr>\n",
       "    <tr>\n",
       "      <th>46</th>\n",
       "      <td>[21FW]여성 스틸링 파카 / MK2003LP 291</td>\n",
       "      <td>무스너클</td>\n",
       "      <td>1612000</td>\n",
       "      <td>0</td>\n",
       "    </tr>\n",
       "    <tr>\n",
       "      <th>102</th>\n",
       "      <td>남성 겨울 스윙 다운 점퍼-PFWPM630601</td>\n",
       "      <td>피엑스지</td>\n",
       "      <td>799000</td>\n",
       "      <td>0</td>\n",
       "    </tr>\n",
       "    <tr>\n",
       "      <th>106</th>\n",
       "      <td>남성 4바 숏 울 브이넥 가디건 - 네이비 / MKC353A01085415</td>\n",
       "      <td>톰브라운</td>\n",
       "      <td>1550000</td>\n",
       "      <td>1</td>\n",
       "    </tr>\n",
       "    <tr>\n",
       "      <th>112</th>\n",
       "      <td>스틸링 파카 / MK4661MP-290</td>\n",
       "      <td>무스너클</td>\n",
       "      <td>1260000</td>\n",
       "      <td>46</td>\n",
       "    </tr>\n",
       "    <tr>\n",
       "      <th>123</th>\n",
       "      <td>남성 스틸링 블랙 폭스 퍼 파카 - 블랙 / MK4661MP291</td>\n",
       "      <td>무스너클</td>\n",
       "      <td>1880000</td>\n",
       "      <td>0</td>\n",
       "    </tr>\n",
       "    <tr>\n",
       "      <th>126</th>\n",
       "      <td>MK로고 리버시블 메탈릭 덕 다운 자켓</td>\n",
       "      <td>마이클코어스</td>\n",
       "      <td>710000</td>\n",
       "      <td>0</td>\n",
       "    </tr>\n",
       "    <tr>\n",
       "      <th>127</th>\n",
       "      <td>DV.LOT 653 Lamb skin Duck down-Armor 360g</td>\n",
       "      <td>디아프바인</td>\n",
       "      <td>698000</td>\n",
       "      <td>13</td>\n",
       "    </tr>\n",
       "    <tr>\n",
       "      <th>130</th>\n",
       "      <td>베르겐 고어 구스다운 남성 롱패딩 (BLACK)</td>\n",
       "      <td>디스커버리 익스페디션</td>\n",
       "      <td>690000</td>\n",
       "      <td>8</td>\n",
       "    </tr>\n",
       "    <tr>\n",
       "      <th>131</th>\n",
       "      <td>베르겐 고어 구스다운 남성 롱패딩 (D/IVORY)</td>\n",
       "      <td>디스커버리 익스페디션</td>\n",
       "      <td>690000</td>\n",
       "      <td>0</td>\n",
       "    </tr>\n",
       "    <tr>\n",
       "      <th>144</th>\n",
       "      <td>FINE MASTER WOOL DOUBLE COAT (DARK BROWN)</td>\n",
       "      <td>셔터</td>\n",
       "      <td>528000</td>\n",
       "      <td>18</td>\n",
       "    </tr>\n",
       "    <tr>\n",
       "      <th>181</th>\n",
       "      <td>트래블 NPM 폴라 다운 파카 블랙</td>\n",
       "      <td>씨엔엔 어패럴</td>\n",
       "      <td>529000</td>\n",
       "      <td>0</td>\n",
       "    </tr>\n",
       "    <tr>\n",
       "      <th>198</th>\n",
       "      <td>리얼 B-3 무스탕 자켓 블랙</td>\n",
       "      <td>스페로네</td>\n",
       "      <td>738000</td>\n",
       "      <td>313</td>\n",
       "    </tr>\n",
       "    <tr>\n",
       "      <th>208</th>\n",
       "      <td>RD20 구스다운 밀리터리 로버다운 패딩 - 카키</td>\n",
       "      <td>맥아더어패럴</td>\n",
       "      <td>577000</td>\n",
       "      <td>3</td>\n",
       "    </tr>\n",
       "    <tr>\n",
       "      <th>234</th>\n",
       "      <td>NJ1DM94C 서밋 프로 다운 자켓</td>\n",
       "      <td>노스페이스</td>\n",
       "      <td>599000</td>\n",
       "      <td>0</td>\n",
       "    </tr>\n",
       "    <tr>\n",
       "      <th>275</th>\n",
       "      <td>남성 더블하트 와펜 가디건 - 블랙 / P1N0761 (AZN0760511)</td>\n",
       "      <td>꼼데가르송 플레이</td>\n",
       "      <td>560000</td>\n",
       "      <td>19</td>\n",
       "    </tr>\n",
       "    <tr>\n",
       "      <th>325</th>\n",
       "      <td>CHROME-L LENS 후디 하프집업 (BLACK)</td>\n",
       "      <td>씨피 컴퍼니</td>\n",
       "      <td>516000</td>\n",
       "      <td>0</td>\n",
       "    </tr>\n",
       "    <tr>\n",
       "      <th>392</th>\n",
       "      <td>디테쳐블 덕다운 자켓 T awa200u(Brown)</td>\n",
       "      <td>앤더슨벨</td>\n",
       "      <td>648000</td>\n",
       "      <td>13</td>\n",
       "    </tr>\n",
       "    <tr>\n",
       "      <th>413</th>\n",
       "      <td>N194UDW950 블루웨일 RDS 구스 다운 점퍼 CARBON BLACK</td>\n",
       "      <td>내셔널지오그래픽</td>\n",
       "      <td>590000</td>\n",
       "      <td>65</td>\n",
       "    </tr>\n",
       "    <tr>\n",
       "      <th>569</th>\n",
       "      <td>N194UDW990 머렌서스 롱 구스 다운 점퍼 HAVANA KHAKI</td>\n",
       "      <td>내셔널지오그래픽</td>\n",
       "      <td>520000</td>\n",
       "      <td>4</td>\n",
       "    </tr>\n",
       "    <tr>\n",
       "      <th>830</th>\n",
       "      <td>유니섹스 디테쳐블 덕다운 자켓  awa286u(TIE-DYED BLACK)</td>\n",
       "      <td>앤더슨벨</td>\n",
       "      <td>598000</td>\n",
       "      <td>0</td>\n",
       "    </tr>\n",
       "  </tbody>\n",
       "</table>\n",
       "</div>"
      ],
      "text/plain": [
       "                                                 goods        brand    price  \\\n",
       "37   DV.LOT 657 SHADOW B-3 Mouton Jacket -Plain- 21...        디아프바인  1740000   \n",
       "46                      [21FW]여성 스틸링 파카 / MK2003LP 291         무스너클  1612000   \n",
       "102                         남성 겨울 스윙 다운 점퍼-PFWPM630601         피엑스지   799000   \n",
       "106          남성 4바 숏 울 브이넥 가디건 - 네이비 / MKC353A01085415         톰브라운  1550000   \n",
       "112                              스틸링 파카 / MK4661MP-290         무스너클  1260000   \n",
       "123               남성 스틸링 블랙 폭스 퍼 파카 - 블랙 / MK4661MP291         무스너클  1880000   \n",
       "126                              MK로고 리버시블 메탈릭 덕 다운 자켓       마이클코어스   710000   \n",
       "127          DV.LOT 653 Lamb skin Duck down-Armor 360g        디아프바인   698000   \n",
       "130                         베르겐 고어 구스다운 남성 롱패딩 (BLACK)  디스커버리 익스페디션   690000   \n",
       "131                       베르겐 고어 구스다운 남성 롱패딩 (D/IVORY)  디스커버리 익스페디션   690000   \n",
       "144          FINE MASTER WOOL DOUBLE COAT (DARK BROWN)           셔터   528000   \n",
       "181                                트래블 NPM 폴라 다운 파카 블랙      씨엔엔 어패럴   529000   \n",
       "198                                   리얼 B-3 무스탕 자켓 블랙         스페로네   738000   \n",
       "208                        RD20 구스다운 밀리터리 로버다운 패딩 - 카키       맥아더어패럴   577000   \n",
       "234                               NJ1DM94C 서밋 프로 다운 자켓        노스페이스   599000   \n",
       "275         남성 더블하트 와펜 가디건 - 블랙 / P1N0761 (AZN0760511)    꼼데가르송 플레이   560000   \n",
       "325                      CHROME-L LENS 후디 하프집업 (BLACK)       씨피 컴퍼니   516000   \n",
       "392                       디테쳐블 덕다운 자켓 T awa200u(Brown)         앤더슨벨   648000   \n",
       "413          N194UDW950 블루웨일 RDS 구스 다운 점퍼 CARBON BLACK     내셔널지오그래픽   590000   \n",
       "569            N194UDW990 머렌서스 롱 구스 다운 점퍼 HAVANA KHAKI     내셔널지오그래픽   520000   \n",
       "830          유니섹스 디테쳐블 덕다운 자켓  awa286u(TIE-DYED BLACK)         앤더슨벨   598000   \n",
       "\n",
       "     review_count  \n",
       "37              6  \n",
       "46              0  \n",
       "102             0  \n",
       "106             1  \n",
       "112            46  \n",
       "123             0  \n",
       "126             0  \n",
       "127            13  \n",
       "130             8  \n",
       "131             0  \n",
       "144            18  \n",
       "181             0  \n",
       "198           313  \n",
       "208             3  \n",
       "234             0  \n",
       "275            19  \n",
       "325             0  \n",
       "392            13  \n",
       "413            65  \n",
       "569             4  \n",
       "830             0  "
      ]
     },
     "execution_count": 23,
     "metadata": {},
     "output_type": "execute_result"
    }
   ],
   "source": [
    "# 가격이 outlier인 상품들\n",
    "price_outlier_indices = detect_outliers(data, 'price')\n",
    "data.iloc[price_outlier_indices, :]"
   ]
  },
  {
   "cell_type": "code",
   "execution_count": 24,
   "metadata": {
    "ExecuteTime": {
     "end_time": "2021-11-30T09:01:47.056069Z",
     "start_time": "2021-11-30T09:01:47.042073Z"
    },
    "scrolled": true
   },
   "outputs": [
    {
     "data": {
      "text/html": [
       "<div>\n",
       "<style scoped>\n",
       "    .dataframe tbody tr th:only-of-type {\n",
       "        vertical-align: middle;\n",
       "    }\n",
       "\n",
       "    .dataframe tbody tr th {\n",
       "        vertical-align: top;\n",
       "    }\n",
       "\n",
       "    .dataframe thead th {\n",
       "        text-align: right;\n",
       "    }\n",
       "</style>\n",
       "<table border=\"1\" class=\"dataframe\">\n",
       "  <thead>\n",
       "    <tr style=\"text-align: right;\">\n",
       "      <th></th>\n",
       "      <th>goods</th>\n",
       "      <th>brand</th>\n",
       "      <th>price</th>\n",
       "      <th>review_count</th>\n",
       "    </tr>\n",
       "  </thead>\n",
       "  <tbody>\n",
       "    <tr>\n",
       "      <th>0</th>\n",
       "      <td>캐시미어 더블 롱 코트 BLACK</td>\n",
       "      <td>인사일런스</td>\n",
       "      <td>289000</td>\n",
       "      <td>8526</td>\n",
       "    </tr>\n",
       "    <tr>\n",
       "      <th>1</th>\n",
       "      <td>[이동휘 착용][3M 신슐레이트]오리지널 M-1965 피쉬테일 파카_Original...</td>\n",
       "      <td>라퍼지스토어</td>\n",
       "      <td>138000</td>\n",
       "      <td>6446</td>\n",
       "    </tr>\n",
       "    <tr>\n",
       "      <th>2</th>\n",
       "      <td>MTR 오버핏 더블 롱 코트 (블랙)</td>\n",
       "      <td>쿠어</td>\n",
       "      <td>334000</td>\n",
       "      <td>5255</td>\n",
       "    </tr>\n",
       "    <tr>\n",
       "      <th>3</th>\n",
       "      <td>[PRAUDEN] 유틸리티 덕다운 푸파 숏패딩_라이트그레이</td>\n",
       "      <td>코드그라피</td>\n",
       "      <td>124000</td>\n",
       "      <td>1870</td>\n",
       "    </tr>\n",
       "    <tr>\n",
       "      <th>4</th>\n",
       "      <td>울리치 트렌치 맥코트_Black</td>\n",
       "      <td>라퍼지 포 우먼</td>\n",
       "      <td>163000</td>\n",
       "      <td>2444</td>\n",
       "    </tr>\n",
       "    <tr>\n",
       "      <th>...</th>\n",
       "      <td>...</td>\n",
       "      <td>...</td>\n",
       "      <td>...</td>\n",
       "      <td>...</td>\n",
       "    </tr>\n",
       "    <tr>\n",
       "      <th>874</th>\n",
       "      <td>울리치 오버핏 블루종 점퍼_Black</td>\n",
       "      <td>라퍼지스토어</td>\n",
       "      <td>108000</td>\n",
       "      <td>39</td>\n",
       "    </tr>\n",
       "    <tr>\n",
       "      <th>875</th>\n",
       "      <td>비전3 봄버 다운 자켓 YELLOW</td>\n",
       "      <td>코닥</td>\n",
       "      <td>419000</td>\n",
       "      <td>6</td>\n",
       "    </tr>\n",
       "    <tr>\n",
       "      <th>876</th>\n",
       "      <td>[3M 신슐레이트]쉬링 피셔맨 패딩_Gray</td>\n",
       "      <td>라퍼지스토어</td>\n",
       "      <td>114000</td>\n",
       "      <td>20</td>\n",
       "    </tr>\n",
       "    <tr>\n",
       "      <th>877</th>\n",
       "      <td>ECO LEATHER SINGLE BREASTED BLAZER BROWN</td>\n",
       "      <td>프렌다</td>\n",
       "      <td>169000</td>\n",
       "      <td>10</td>\n",
       "    </tr>\n",
       "    <tr>\n",
       "      <th>878</th>\n",
       "      <td>울 트위드 필드 셔츠 자켓 (블랙)</td>\n",
       "      <td>노이어</td>\n",
       "      <td>165000</td>\n",
       "      <td>6</td>\n",
       "    </tr>\n",
       "  </tbody>\n",
       "</table>\n",
       "<p>879 rows × 4 columns</p>\n",
       "</div>"
      ],
      "text/plain": [
       "                                                 goods     brand   price  \\\n",
       "0                                   캐시미어 더블 롱 코트 BLACK     인사일런스  289000   \n",
       "1    [이동휘 착용][3M 신슐레이트]오리지널 M-1965 피쉬테일 파카_Original...    라퍼지스토어  138000   \n",
       "2                                 MTR 오버핏 더블 롱 코트 (블랙)        쿠어  334000   \n",
       "3                     [PRAUDEN] 유틸리티 덕다운 푸파 숏패딩_라이트그레이     코드그라피  124000   \n",
       "4                                    울리치 트렌치 맥코트_Black  라퍼지 포 우먼  163000   \n",
       "..                                                 ...       ...     ...   \n",
       "874                               울리치 오버핏 블루종 점퍼_Black    라퍼지스토어  108000   \n",
       "875                                비전3 봄버 다운 자켓 YELLOW        코닥  419000   \n",
       "876                           [3M 신슐레이트]쉬링 피셔맨 패딩_Gray    라퍼지스토어  114000   \n",
       "877           ECO LEATHER SINGLE BREASTED BLAZER BROWN       프렌다  169000   \n",
       "878                                울 트위드 필드 셔츠 자켓 (블랙)       노이어  165000   \n",
       "\n",
       "     review_count  \n",
       "0            8526  \n",
       "1            6446  \n",
       "2            5255  \n",
       "3            1870  \n",
       "4            2444  \n",
       "..            ...  \n",
       "874            39  \n",
       "875             6  \n",
       "876            20  \n",
       "877            10  \n",
       "878             6  \n",
       "\n",
       "[879 rows x 4 columns]"
      ]
     },
     "execution_count": 24,
     "metadata": {},
     "output_type": "execute_result"
    }
   ],
   "source": [
    "data_rm_outliers = data.copy()\n",
    "data_rm_outliers = data_rm_outliers.drop(price_outlier_indices, axis = 0).reset_index(drop=True)\n",
    "data_rm_outliers"
   ]
  },
  {
   "cell_type": "code",
   "execution_count": 25,
   "metadata": {
    "ExecuteTime": {
     "end_time": "2021-11-30T09:01:48.025175Z",
     "start_time": "2021-11-30T09:01:47.810084Z"
    }
   },
   "outputs": [
    {
     "data": {
      "image/png": "[encoded data removed]",
      "text/plain": [
       "<Figure size 720x360 with 1 Axes>"
      ]
     },
     "metadata": {},
     "output_type": "display_data"
    }
   ],
   "source": [
    "# 이상치 삭제한 후 histogram\n",
    "sns.set(style='darkgrid')\n",
    "plt.figure(figsize=(10,5))\n",
    "\n",
    "plt.hist(data_rm_outliers['price'])\n",
    "\n",
    "plt.title('Histogram of Price without outliers')\n",
    "plt.ylabel('Count')\n",
    "plt.xlabel('Price')\n",
    "plt.show()"
   ]
  },
  {
   "cell_type": "code",
   "execution_count": 26,
   "metadata": {
    "ExecuteTime": {
     "end_time": "2021-11-30T09:01:49.414453Z",
     "start_time": "2021-11-30T09:01:49.303458Z"
    }
   },
   "outputs": [
    {
     "data": {
      "image/png": "[encoded data removed]",
      "text/plain": [
       "<Figure size 720x360 with 1 Axes>"
      ]
     },
     "metadata": {},
     "output_type": "display_data"
    }
   ],
   "source": [
    "sns.set(style='darkgrid')\n",
    "plt.figure(figsize=(10,5))\n",
    "\n",
    "plt.boxplot(data_rm_outliers['price'])\n",
    "\n",
    "plt.title('Boxplot of Price without outliers')\n",
    "plt.ylabel('Price')\n",
    "plt.show()"
   ]
  },
  {
   "cell_type": "markdown",
   "metadata": {},
   "source": [
    "## Brand\n",
    "- 몇몇 브랜드들이 비교적 많기는 하지만 독점처럼은 보이지 않는다."
   ]
  },
  {
   "cell_type": "code",
   "execution_count": 27,
   "metadata": {
    "ExecuteTime": {
     "end_time": "2021-11-30T09:01:51.587461Z",
     "start_time": "2021-11-30T09:01:51.579457Z"
    }
   },
   "outputs": [
    {
     "data": {
      "text/plain": [
       "무신사 스탠다드          58\n",
       "커버낫               35\n",
       "내셔널지오그래픽          34\n",
       "라퍼지스토어            34\n",
       "디스커버리 익스페디션       33\n",
       "                  ..\n",
       "에스티피크니커            1\n",
       "척                  1\n",
       "씨클로버               1\n",
       "5252 바이 오아이오아이     1\n",
       "넌블랭크               1\n",
       "Name: brand, Length: 250, dtype: int64"
      ]
     },
     "execution_count": 27,
     "metadata": {},
     "output_type": "execute_result"
    }
   ],
   "source": [
    "# 브랜드별 제품 갯수\n",
    "# pd.value_counts?\n",
    "pd.value_counts(brand)"
   ]
  },
  {
   "cell_type": "code",
   "execution_count": 28,
   "metadata": {
    "ExecuteTime": {
     "end_time": "2021-11-30T09:01:53.070884Z",
     "start_time": "2021-11-30T09:01:53.063852Z"
    }
   },
   "outputs": [
    {
     "data": {
      "text/plain": [
       "42"
      ]
     },
     "execution_count": 28,
     "metadata": {},
     "output_type": "execute_result"
    }
   ],
   "source": [
    "(pd.value_counts(brand)>=5).sum()"
   ]
  },
  {
   "cell_type": "code",
   "execution_count": 29,
   "metadata": {
    "ExecuteTime": {
     "end_time": "2021-11-30T09:01:53.675883Z",
     "start_time": "2021-11-30T09:01:53.654852Z"
    },
    "scrolled": true
   },
   "outputs": [
    {
     "data": {
      "text/plain": [
       "무신사 스탠다드         6.44\n",
       "커버낫              3.89\n",
       "내셔널지오그래픽         3.78\n",
       "라퍼지스토어           3.78\n",
       "디스커버리 익스페디션      3.67\n",
       "                 ... \n",
       "에스티피크니커          0.11\n",
       "척                0.11\n",
       "씨클로버             0.11\n",
       "5252 바이 오아이오아이   0.11\n",
       "넌블랭크             0.11\n",
       "Name: brand, Length: 250, dtype: float64"
      ]
     },
     "execution_count": 29,
     "metadata": {},
     "output_type": "execute_result"
    }
   ],
   "source": [
    "# 브랜드별 제품 퍼센트\n",
    "round(pd.value_counts(brand, normalize=True)*100,2)"
   ]
  },
  {
   "cell_type": "code",
   "execution_count": 31,
   "metadata": {
    "ExecuteTime": {
     "end_time": "2021-11-30T09:02:12.496641Z",
     "start_time": "2021-11-30T09:02:12.044866Z"
    }
   },
   "outputs": [
    {
     "data": {
      "image/png": "[encoded data removed]",
      "text/plain": [
       "<Figure size 720x720 with 1 Axes>"
      ]
     },
     "metadata": {},
     "output_type": "display_data"
    }
   ],
   "source": [
    "import matplotlib.pyplot as plt\n",
    "import seaborn as sns\n",
    "\n",
    "# 상위 50개만\n",
    "sns.set(style='darkgrid')\n",
    "plt.rcParams['font.family'] = 'Malgun Gothic' # 한글 폰트 깨짐 해결\n",
    "\n",
    "plt.figure(figsize = (10,10))\n",
    "sns.countplot(y='brand',\n",
    "              data=data,\n",
    "              order = brand.value_counts().iloc[:50].index) # 상위 50개만 표시\n",
    "plt.show()"
   ]
  },
  {
   "cell_type": "markdown",
   "metadata": {},
   "source": [
    "## review_counts\n",
    "- 분포 확인 -> transformation?\n",
    "- 이상치 확인\n",
    "- 이상치를 삭제해도 편향된 그래프를 그림"
   ]
  },
  {
   "cell_type": "code",
   "execution_count": 32,
   "metadata": {
    "ExecuteTime": {
     "end_time": "2021-11-30T09:02:13.743644Z",
     "start_time": "2021-11-30T09:02:13.734677Z"
    }
   },
   "outputs": [
    {
     "data": {
      "text/plain": [
       "count     900.00\n",
       "mean      709.40\n",
       "std      2893.25\n",
       "min         0.00\n",
       "25%         7.00\n",
       "50%        32.00\n",
       "75%       209.25\n",
       "max     40293.00\n",
       "Name: review_count, dtype: float64"
      ]
     },
     "execution_count": 32,
     "metadata": {},
     "output_type": "execute_result"
    }
   ],
   "source": [
    "review_count.describe()"
   ]
  },
  {
   "cell_type": "markdown",
   "metadata": {
    "ExecuteTime": {
     "end_time": "2021-11-30T08:38:07.109283Z",
     "start_time": "2021-11-30T08:38:07.107279Z"
    }
   },
   "source": [
    "### histogram & boxplot"
   ]
  },
  {
   "cell_type": "code",
   "execution_count": 33,
   "metadata": {
    "ExecuteTime": {
     "end_time": "2021-11-30T09:02:15.144995Z",
     "start_time": "2021-11-30T09:02:14.920654Z"
    }
   },
   "outputs": [
    {
     "data": {
      "image/png": "[encoded data removed]",
      "text/plain": [
       "<Figure size 720x360 with 1 Axes>"
      ]
     },
     "metadata": {},
     "output_type": "display_data"
    }
   ],
   "source": [
    "sns.set(style='darkgrid')\n",
    "plt.figure(figsize=(10,5))\n",
    "\n",
    "plt.hist(review_count)\n",
    "\n",
    "plt.title('Histogram of review_count')\n",
    "plt.ylabel('Count')\n",
    "plt.xlabel('review_count')\n",
    "plt.show()"
   ]
  },
  {
   "cell_type": "code",
   "execution_count": 34,
   "metadata": {
    "ExecuteTime": {
     "end_time": "2021-11-30T09:02:15.936003Z",
     "start_time": "2021-11-30T09:02:15.661839Z"
    }
   },
   "outputs": [
    {
     "data": {
      "image/png": "[encoded data removed]",
      "text/plain": [
       "<Figure size 720x360 with 1 Axes>"
      ]
     },
     "metadata": {},
     "output_type": "display_data"
    }
   ],
   "source": [
    "sns.set(style='darkgrid')\n",
    "plt.figure(figsize=(10,5))\n",
    "\n",
    "plt.hist(np.log(review_count+1)) # 0인 값이 있어서 +1 해줌\n",
    "\n",
    "plt.title('Histogram of log(review_count)')\n",
    "plt.ylabel('Count')\n",
    "plt.xlabel('log(review_count)')\n",
    "plt.show()"
   ]
  },
  {
   "cell_type": "code",
   "execution_count": 35,
   "metadata": {
    "ExecuteTime": {
     "end_time": "2021-11-30T09:02:16.346381Z",
     "start_time": "2021-11-30T09:02:16.224982Z"
    }
   },
   "outputs": [
    {
     "data": {
      "image/png": "[encoded data removed]",
      "text/plain": [
       "<Figure size 720x360 with 1 Axes>"
      ]
     },
     "metadata": {},
     "output_type": "display_data"
    }
   ],
   "source": [
    "sns.set(style='darkgrid')\n",
    "plt.figure(figsize=(10,5))\n",
    "\n",
    "plt.boxplot(review_count)\n",
    "\n",
    "plt.title('Boxplot of review_count')\n",
    "plt.ylabel('review_count')\n",
    "plt.show()"
   ]
  },
  {
   "cell_type": "markdown",
   "metadata": {},
   "source": [
    "### outliers"
   ]
  },
  {
   "cell_type": "code",
   "execution_count": 36,
   "metadata": {
    "ExecuteTime": {
     "end_time": "2021-11-30T09:02:17.608809Z",
     "start_time": "2021-11-30T09:02:17.603743Z"
    }
   },
   "outputs": [],
   "source": [
    "# IQR기반한 outliers\n",
    "def detect_outliers(df, feature):\n",
    "    outlier_indices = [] \n",
    "    Q1 = np.percentile(df[feature], 25) \n",
    "    Q3 = np.percentile(df[feature], 75) \n",
    "    IQR = Q3 - Q1 \n",
    "    outlier_step = 1.5 * IQR \n",
    "    outlier_list_col = df[(df[feature] < Q1 - outlier_step) | (df[feature] > Q3 + outlier_step)].index \n",
    "    outlier_indices.extend(outlier_list_col)\n",
    "    \n",
    "    return outlier_indices"
   ]
  },
  {
   "cell_type": "code",
   "execution_count": 37,
   "metadata": {
    "ExecuteTime": {
     "end_time": "2021-11-30T09:02:18.615983Z",
     "start_time": "2021-11-30T09:02:18.595983Z"
    },
    "scrolled": true
   },
   "outputs": [
    {
     "data": {
      "text/html": [
       "<div>\n",
       "<style scoped>\n",
       "    .dataframe tbody tr th:only-of-type {\n",
       "        vertical-align: middle;\n",
       "    }\n",
       "\n",
       "    .dataframe tbody tr th {\n",
       "        vertical-align: top;\n",
       "    }\n",
       "\n",
       "    .dataframe thead th {\n",
       "        text-align: right;\n",
       "    }\n",
       "</style>\n",
       "<table border=\"1\" class=\"dataframe\">\n",
       "  <thead>\n",
       "    <tr style=\"text-align: right;\">\n",
       "      <th></th>\n",
       "      <th>goods</th>\n",
       "      <th>brand</th>\n",
       "      <th>price</th>\n",
       "      <th>review_count</th>\n",
       "    </tr>\n",
       "  </thead>\n",
       "  <tbody>\n",
       "    <tr>\n",
       "      <th>0</th>\n",
       "      <td>캐시미어 더블 롱 코트 BLACK</td>\n",
       "      <td>인사일런스</td>\n",
       "      <td>289000</td>\n",
       "      <td>8526</td>\n",
       "    </tr>\n",
       "    <tr>\n",
       "      <th>1</th>\n",
       "      <td>[이동휘 착용][3M 신슐레이트]오리지널 M-1965 피쉬테일 파카_Original...</td>\n",
       "      <td>라퍼지스토어</td>\n",
       "      <td>138000</td>\n",
       "      <td>6446</td>\n",
       "    </tr>\n",
       "    <tr>\n",
       "      <th>2</th>\n",
       "      <td>MTR 오버핏 더블 롱 코트 (블랙)</td>\n",
       "      <td>쿠어</td>\n",
       "      <td>334000</td>\n",
       "      <td>5255</td>\n",
       "    </tr>\n",
       "    <tr>\n",
       "      <th>3</th>\n",
       "      <td>[PRAUDEN] 유틸리티 덕다운 푸파 숏패딩_라이트그레이</td>\n",
       "      <td>코드그라피</td>\n",
       "      <td>124000</td>\n",
       "      <td>1870</td>\n",
       "    </tr>\n",
       "    <tr>\n",
       "      <th>4</th>\n",
       "      <td>울리치 트렌치 맥코트_Black</td>\n",
       "      <td>라퍼지 포 우먼</td>\n",
       "      <td>163000</td>\n",
       "      <td>2444</td>\n",
       "    </tr>\n",
       "    <tr>\n",
       "      <th>...</th>\n",
       "      <td>...</td>\n",
       "      <td>...</td>\n",
       "      <td>...</td>\n",
       "      <td>...</td>\n",
       "    </tr>\n",
       "    <tr>\n",
       "      <th>859</th>\n",
       "      <td>[매트블랙] 버핑레더 라이더자켓_Matt Black</td>\n",
       "      <td>라퍼지스토어</td>\n",
       "      <td>94000</td>\n",
       "      <td>760</td>\n",
       "    </tr>\n",
       "    <tr>\n",
       "      <th>862</th>\n",
       "      <td>리버시블 플리스 집업 자켓 블랙</td>\n",
       "      <td>커버낫</td>\n",
       "      <td>129000</td>\n",
       "      <td>827</td>\n",
       "    </tr>\n",
       "    <tr>\n",
       "      <th>871</th>\n",
       "      <td>2WAY 스냅 블루종_아이보리</td>\n",
       "      <td>아르반</td>\n",
       "      <td>136000</td>\n",
       "      <td>1777</td>\n",
       "    </tr>\n",
       "    <tr>\n",
       "      <th>880</th>\n",
       "      <td>워싱 코튼 셰르파 자켓 (Black)</td>\n",
       "      <td>더스토리</td>\n",
       "      <td>89000</td>\n",
       "      <td>696</td>\n",
       "    </tr>\n",
       "    <tr>\n",
       "      <th>889</th>\n",
       "      <td>우먼즈 오버사이즈 블레이저 [블랙]</td>\n",
       "      <td>무신사 스탠다드</td>\n",
       "      <td>71900</td>\n",
       "      <td>2214</td>\n",
       "    </tr>\n",
       "  </tbody>\n",
       "</table>\n",
       "<p>147 rows × 4 columns</p>\n",
       "</div>"
      ],
      "text/plain": [
       "                                                 goods     brand   price  \\\n",
       "0                                   캐시미어 더블 롱 코트 BLACK     인사일런스  289000   \n",
       "1    [이동휘 착용][3M 신슐레이트]오리지널 M-1965 피쉬테일 파카_Original...    라퍼지스토어  138000   \n",
       "2                                 MTR 오버핏 더블 롱 코트 (블랙)        쿠어  334000   \n",
       "3                     [PRAUDEN] 유틸리티 덕다운 푸파 숏패딩_라이트그레이     코드그라피  124000   \n",
       "4                                    울리치 트렌치 맥코트_Black  라퍼지 포 우먼  163000   \n",
       "..                                                 ...       ...     ...   \n",
       "859                       [매트블랙] 버핑레더 라이더자켓_Matt Black    라퍼지스토어   94000   \n",
       "862                                  리버시블 플리스 집업 자켓 블랙       커버낫  129000   \n",
       "871                                   2WAY 스냅 블루종_아이보리       아르반  136000   \n",
       "880                               워싱 코튼 셰르파 자켓 (Black)      더스토리   89000   \n",
       "889                                우먼즈 오버사이즈 블레이저 [블랙]  무신사 스탠다드   71900   \n",
       "\n",
       "     review_count  \n",
       "0            8526  \n",
       "1            6446  \n",
       "2            5255  \n",
       "3            1870  \n",
       "4            2444  \n",
       "..            ...  \n",
       "859           760  \n",
       "862           827  \n",
       "871          1777  \n",
       "880           696  \n",
       "889          2214  \n",
       "\n",
       "[147 rows x 4 columns]"
      ]
     },
     "execution_count": 37,
     "metadata": {},
     "output_type": "execute_result"
    }
   ],
   "source": [
    "# 가격이 outlier인 상품들\n",
    "review_outlier_indices = detect_outliers(data, 'review_count')\n",
    "data.iloc[review_outlier_indices, :]"
   ]
  },
  {
   "cell_type": "code",
   "execution_count": 38,
   "metadata": {
    "ExecuteTime": {
     "end_time": "2021-11-30T09:02:19.275984Z",
     "start_time": "2021-11-30T09:02:19.261984Z"
    },
    "scrolled": true
   },
   "outputs": [
    {
     "data": {
      "text/html": [
       "<div>\n",
       "<style scoped>\n",
       "    .dataframe tbody tr th:only-of-type {\n",
       "        vertical-align: middle;\n",
       "    }\n",
       "\n",
       "    .dataframe tbody tr th {\n",
       "        vertical-align: top;\n",
       "    }\n",
       "\n",
       "    .dataframe thead th {\n",
       "        text-align: right;\n",
       "    }\n",
       "</style>\n",
       "<table border=\"1\" class=\"dataframe\">\n",
       "  <thead>\n",
       "    <tr style=\"text-align: right;\">\n",
       "      <th></th>\n",
       "      <th>goods</th>\n",
       "      <th>brand</th>\n",
       "      <th>price</th>\n",
       "      <th>review_count</th>\n",
       "    </tr>\n",
       "  </thead>\n",
       "  <tbody>\n",
       "    <tr>\n",
       "      <th>0</th>\n",
       "      <td>[PRAUDEN] 유틸리티 덕다운 후드 숏패딩_블랙</td>\n",
       "      <td>코드그라피</td>\n",
       "      <td>144000</td>\n",
       "      <td>301</td>\n",
       "    </tr>\n",
       "    <tr>\n",
       "      <th>1</th>\n",
       "      <td>오리지널 헤비 덕다운 M-1990 스웨덴 파카_Black</td>\n",
       "      <td>라퍼지스토어</td>\n",
       "      <td>186000</td>\n",
       "      <td>16</td>\n",
       "    </tr>\n",
       "    <tr>\n",
       "      <th>2</th>\n",
       "      <td>[이도현 착용]RDS 유틸리티 다운 점퍼 블랙</td>\n",
       "      <td>커버낫</td>\n",
       "      <td>269000</td>\n",
       "      <td>79</td>\n",
       "    </tr>\n",
       "    <tr>\n",
       "      <th>3</th>\n",
       "      <td>MTR 발마칸 코트 (딥브라운)</td>\n",
       "      <td>쿠어</td>\n",
       "      <td>329000</td>\n",
       "      <td>398</td>\n",
       "    </tr>\n",
       "    <tr>\n",
       "      <th>4</th>\n",
       "      <td>오버사이즈 멜톤 더플 롱 코트 네이비</td>\n",
       "      <td>파르티멘토</td>\n",
       "      <td>155000</td>\n",
       "      <td>1</td>\n",
       "    </tr>\n",
       "    <tr>\n",
       "      <th>...</th>\n",
       "      <td>...</td>\n",
       "      <td>...</td>\n",
       "      <td>...</td>\n",
       "      <td>...</td>\n",
       "    </tr>\n",
       "    <tr>\n",
       "      <th>748</th>\n",
       "      <td>울리치 오버핏 블루종 점퍼_Black</td>\n",
       "      <td>라퍼지스토어</td>\n",
       "      <td>108000</td>\n",
       "      <td>39</td>\n",
       "    </tr>\n",
       "    <tr>\n",
       "      <th>749</th>\n",
       "      <td>비전3 봄버 다운 자켓 YELLOW</td>\n",
       "      <td>코닥</td>\n",
       "      <td>419000</td>\n",
       "      <td>6</td>\n",
       "    </tr>\n",
       "    <tr>\n",
       "      <th>750</th>\n",
       "      <td>[3M 신슐레이트]쉬링 피셔맨 패딩_Gray</td>\n",
       "      <td>라퍼지스토어</td>\n",
       "      <td>114000</td>\n",
       "      <td>20</td>\n",
       "    </tr>\n",
       "    <tr>\n",
       "      <th>751</th>\n",
       "      <td>ECO LEATHER SINGLE BREASTED BLAZER BROWN</td>\n",
       "      <td>프렌다</td>\n",
       "      <td>169000</td>\n",
       "      <td>10</td>\n",
       "    </tr>\n",
       "    <tr>\n",
       "      <th>752</th>\n",
       "      <td>울 트위드 필드 셔츠 자켓 (블랙)</td>\n",
       "      <td>노이어</td>\n",
       "      <td>165000</td>\n",
       "      <td>6</td>\n",
       "    </tr>\n",
       "  </tbody>\n",
       "</table>\n",
       "<p>753 rows × 4 columns</p>\n",
       "</div>"
      ],
      "text/plain": [
       "                                        goods   brand   price  review_count\n",
       "0                [PRAUDEN] 유틸리티 덕다운 후드 숏패딩_블랙   코드그라피  144000           301\n",
       "1             오리지널 헤비 덕다운 M-1990 스웨덴 파카_Black  라퍼지스토어  186000            16\n",
       "2                   [이도현 착용]RDS 유틸리티 다운 점퍼 블랙     커버낫  269000            79\n",
       "3                           MTR 발마칸 코트 (딥브라운)      쿠어  329000           398\n",
       "4                        오버사이즈 멜톤 더플 롱 코트 네이비   파르티멘토  155000             1\n",
       "..                                        ...     ...     ...           ...\n",
       "748                      울리치 오버핏 블루종 점퍼_Black  라퍼지스토어  108000            39\n",
       "749                       비전3 봄버 다운 자켓 YELLOW      코닥  419000             6\n",
       "750                  [3M 신슐레이트]쉬링 피셔맨 패딩_Gray  라퍼지스토어  114000            20\n",
       "751  ECO LEATHER SINGLE BREASTED BLAZER BROWN     프렌다  169000            10\n",
       "752                       울 트위드 필드 셔츠 자켓 (블랙)     노이어  165000             6\n",
       "\n",
       "[753 rows x 4 columns]"
      ]
     },
     "execution_count": 38,
     "metadata": {},
     "output_type": "execute_result"
    }
   ],
   "source": [
    "data_rm_outliers = data.copy()\n",
    "data_rm_outliers = data_rm_outliers.drop(review_outlier_indices, axis = 0).reset_index(drop=True)\n",
    "data_rm_outliers"
   ]
  },
  {
   "cell_type": "code",
   "execution_count": 39,
   "metadata": {
    "ExecuteTime": {
     "end_time": "2021-11-30T09:02:20.626511Z",
     "start_time": "2021-11-30T09:02:20.410609Z"
    }
   },
   "outputs": [
    {
     "data": {
      "image/png": "[encoded data removed]",
      "text/plain": [
       "<Figure size 720x360 with 1 Axes>"
      ]
     },
     "metadata": {},
     "output_type": "display_data"
    }
   ],
   "source": [
    "# 이상치 삭제한 후 histogram\n",
    "# 이상치를 삭제해도 편향된 그래프를 그림\n",
    "sns.set(style='darkgrid')\n",
    "plt.figure(figsize=(10,5))\n",
    "\n",
    "plt.hist(data_rm_outliers['review_count'])\n",
    "\n",
    "plt.title('Histogram of review_count without outliers')\n",
    "plt.ylabel('Count')\n",
    "plt.xlabel('review_count')\n",
    "plt.show()"
   ]
  },
  {
   "cell_type": "code",
   "execution_count": 40,
   "metadata": {
    "ExecuteTime": {
     "end_time": "2021-11-30T09:02:21.994454Z",
     "start_time": "2021-11-30T09:02:21.774500Z"
    }
   },
   "outputs": [
    {
     "data": {
      "image/png": "[encoded data removed]",
      "text/plain": [
       "<Figure size 720x360 with 1 Axes>"
      ]
     },
     "metadata": {},
     "output_type": "display_data"
    }
   ],
   "source": [
    "# 이상치 삭제, log transformation한 후 histogram\n",
    "sns.set(style='darkgrid')\n",
    "plt.figure(figsize=(10,5))\n",
    "\n",
    "plt.hist(np.log(data_rm_outliers['review_count']+1))\n",
    "\n",
    "plt.title('Histogram of log(review_count) without outliers')\n",
    "plt.ylabel('Count')\n",
    "plt.xlabel('log(review_count)')\n",
    "plt.show()"
   ]
  },
  {
   "cell_type": "markdown",
   "metadata": {},
   "source": [
    "# 상관관계(correlation)\n",
    "- 가격과 리뷰의 수가 상관성이 없게 나온다.\n",
    "- 이상치의 영향일 수 있으므로 이상치 제거 후 다시 확인.\n",
    "- 이상치 제거 후에도 상관계수가 -0.30이다 -> 가격과 리뷰 수에는 큰 상관성이 없는 것처럼 보인다.\n"
   ]
  },
  {
   "cell_type": "code",
   "execution_count": 41,
   "metadata": {
    "ExecuteTime": {
     "end_time": "2021-11-30T09:02:24.496121Z",
     "start_time": "2021-11-30T09:02:24.487472Z"
    }
   },
   "outputs": [
    {
     "data": {
      "text/html": [
       "<div>\n",
       "<style scoped>\n",
       "    .dataframe tbody tr th:only-of-type {\n",
       "        vertical-align: middle;\n",
       "    }\n",
       "\n",
       "    .dataframe tbody tr th {\n",
       "        vertical-align: top;\n",
       "    }\n",
       "\n",
       "    .dataframe thead th {\n",
       "        text-align: right;\n",
       "    }\n",
       "</style>\n",
       "<table border=\"1\" class=\"dataframe\">\n",
       "  <thead>\n",
       "    <tr style=\"text-align: right;\">\n",
       "      <th></th>\n",
       "      <th>price</th>\n",
       "      <th>review_count</th>\n",
       "    </tr>\n",
       "  </thead>\n",
       "  <tbody>\n",
       "    <tr>\n",
       "      <th>price</th>\n",
       "      <td>1.00</td>\n",
       "      <td>-0.18</td>\n",
       "    </tr>\n",
       "    <tr>\n",
       "      <th>review_count</th>\n",
       "      <td>-0.18</td>\n",
       "      <td>1.00</td>\n",
       "    </tr>\n",
       "  </tbody>\n",
       "</table>\n",
       "</div>"
      ],
      "text/plain": [
       "              price  review_count\n",
       "price          1.00         -0.18\n",
       "review_count  -0.18          1.00"
      ]
     },
     "execution_count": 41,
     "metadata": {},
     "output_type": "execute_result"
    }
   ],
   "source": [
    "# 상관계수\n",
    "data.corr()"
   ]
  },
  {
   "cell_type": "code",
   "execution_count": 42,
   "metadata": {
    "ExecuteTime": {
     "end_time": "2021-11-30T09:02:25.215599Z",
     "start_time": "2021-11-30T09:02:25.052585Z"
    }
   },
   "outputs": [
    {
     "data": {
      "image/png": "[encoded data removed]",
      "text/plain": [
       "<Figure size 360x360 with 2 Axes>"
      ]
     },
     "metadata": {},
     "output_type": "display_data"
    }
   ],
   "source": [
    "import matplotlib.pyplot as plt \n",
    "import seaborn as sns    \n",
    "\n",
    "plt.figure(figsize=(5,5))\n",
    "sns.heatmap(data = data.corr(), annot=True, fmt = '.2f', linewidths=.5, cmap='Blues')\n",
    "plt.show()"
   ]
  },
  {
   "cell_type": "code",
   "execution_count": 43,
   "metadata": {
    "ExecuteTime": {
     "end_time": "2021-11-30T09:02:27.206669Z",
     "start_time": "2021-11-30T09:02:27.192704Z"
    }
   },
   "outputs": [
    {
     "data": {
      "text/html": [
       "<div>\n",
       "<style scoped>\n",
       "    .dataframe tbody tr th:only-of-type {\n",
       "        vertical-align: middle;\n",
       "    }\n",
       "\n",
       "    .dataframe tbody tr th {\n",
       "        vertical-align: top;\n",
       "    }\n",
       "\n",
       "    .dataframe thead th {\n",
       "        text-align: right;\n",
       "    }\n",
       "</style>\n",
       "<table border=\"1\" class=\"dataframe\">\n",
       "  <thead>\n",
       "    <tr style=\"text-align: right;\">\n",
       "      <th></th>\n",
       "      <th>goods</th>\n",
       "      <th>brand</th>\n",
       "      <th>price</th>\n",
       "      <th>review_count</th>\n",
       "    </tr>\n",
       "  </thead>\n",
       "  <tbody>\n",
       "    <tr>\n",
       "      <th>0</th>\n",
       "      <td>[PRAUDEN] 유틸리티 덕다운 후드 숏패딩_블랙</td>\n",
       "      <td>코드그라피</td>\n",
       "      <td>144000</td>\n",
       "      <td>301</td>\n",
       "    </tr>\n",
       "    <tr>\n",
       "      <th>1</th>\n",
       "      <td>오리지널 헤비 덕다운 M-1990 스웨덴 파카_Black</td>\n",
       "      <td>라퍼지스토어</td>\n",
       "      <td>186000</td>\n",
       "      <td>16</td>\n",
       "    </tr>\n",
       "    <tr>\n",
       "      <th>2</th>\n",
       "      <td>[이도현 착용]RDS 유틸리티 다운 점퍼 블랙</td>\n",
       "      <td>커버낫</td>\n",
       "      <td>269000</td>\n",
       "      <td>79</td>\n",
       "    </tr>\n",
       "    <tr>\n",
       "      <th>3</th>\n",
       "      <td>MTR 발마칸 코트 (딥브라운)</td>\n",
       "      <td>쿠어</td>\n",
       "      <td>329000</td>\n",
       "      <td>398</td>\n",
       "    </tr>\n",
       "    <tr>\n",
       "      <th>4</th>\n",
       "      <td>오버사이즈 멜톤 더플 롱 코트 네이비</td>\n",
       "      <td>파르티멘토</td>\n",
       "      <td>155000</td>\n",
       "      <td>1</td>\n",
       "    </tr>\n",
       "    <tr>\n",
       "      <th>...</th>\n",
       "      <td>...</td>\n",
       "      <td>...</td>\n",
       "      <td>...</td>\n",
       "      <td>...</td>\n",
       "    </tr>\n",
       "    <tr>\n",
       "      <th>727</th>\n",
       "      <td>울리치 오버핏 블루종 점퍼_Black</td>\n",
       "      <td>라퍼지스토어</td>\n",
       "      <td>108000</td>\n",
       "      <td>39</td>\n",
       "    </tr>\n",
       "    <tr>\n",
       "      <th>728</th>\n",
       "      <td>비전3 봄버 다운 자켓 YELLOW</td>\n",
       "      <td>코닥</td>\n",
       "      <td>419000</td>\n",
       "      <td>6</td>\n",
       "    </tr>\n",
       "    <tr>\n",
       "      <th>729</th>\n",
       "      <td>[3M 신슐레이트]쉬링 피셔맨 패딩_Gray</td>\n",
       "      <td>라퍼지스토어</td>\n",
       "      <td>114000</td>\n",
       "      <td>20</td>\n",
       "    </tr>\n",
       "    <tr>\n",
       "      <th>730</th>\n",
       "      <td>ECO LEATHER SINGLE BREASTED BLAZER BROWN</td>\n",
       "      <td>프렌다</td>\n",
       "      <td>169000</td>\n",
       "      <td>10</td>\n",
       "    </tr>\n",
       "    <tr>\n",
       "      <th>731</th>\n",
       "      <td>울 트위드 필드 셔츠 자켓 (블랙)</td>\n",
       "      <td>노이어</td>\n",
       "      <td>165000</td>\n",
       "      <td>6</td>\n",
       "    </tr>\n",
       "  </tbody>\n",
       "</table>\n",
       "<p>732 rows × 4 columns</p>\n",
       "</div>"
      ],
      "text/plain": [
       "                                        goods   brand   price  review_count\n",
       "0                [PRAUDEN] 유틸리티 덕다운 후드 숏패딩_블랙   코드그라피  144000           301\n",
       "1             오리지널 헤비 덕다운 M-1990 스웨덴 파카_Black  라퍼지스토어  186000            16\n",
       "2                   [이도현 착용]RDS 유틸리티 다운 점퍼 블랙     커버낫  269000            79\n",
       "3                           MTR 발마칸 코트 (딥브라운)      쿠어  329000           398\n",
       "4                        오버사이즈 멜톤 더플 롱 코트 네이비   파르티멘토  155000             1\n",
       "..                                        ...     ...     ...           ...\n",
       "727                      울리치 오버핏 블루종 점퍼_Black  라퍼지스토어  108000            39\n",
       "728                       비전3 봄버 다운 자켓 YELLOW      코닥  419000             6\n",
       "729                  [3M 신슐레이트]쉬링 피셔맨 패딩_Gray  라퍼지스토어  114000            20\n",
       "730  ECO LEATHER SINGLE BREASTED BLAZER BROWN     프렌다  169000            10\n",
       "731                       울 트위드 필드 셔츠 자켓 (블랙)     노이어  165000             6\n",
       "\n",
       "[732 rows x 4 columns]"
      ]
     },
     "execution_count": 43,
     "metadata": {},
     "output_type": "execute_result"
    }
   ],
   "source": [
    "# 위에서 구한 IQR 기준 outliers들 제거\n",
    "outlier_indices = []\n",
    "outlier_indices.extend(review_outlier_indices)\n",
    "outlier_indices.extend(price_outlier_indices)\n",
    "outlier_indices = set(outlier_indices)\n",
    "\n",
    "data_rm_outliers = data.copy()\n",
    "data_rm_outliers = data_rm_outliers.drop(outlier_indices, axis = 0).reset_index(drop=True)\n",
    "data_rm_outliers"
   ]
  },
  {
   "cell_type": "code",
   "execution_count": 44,
   "metadata": {
    "ExecuteTime": {
     "end_time": "2021-11-30T09:02:27.684680Z",
     "start_time": "2021-11-30T09:02:27.675707Z"
    }
   },
   "outputs": [
    {
     "data": {
      "text/html": [
       "<div>\n",
       "<style scoped>\n",
       "    .dataframe tbody tr th:only-of-type {\n",
       "        vertical-align: middle;\n",
       "    }\n",
       "\n",
       "    .dataframe tbody tr th {\n",
       "        vertical-align: top;\n",
       "    }\n",
       "\n",
       "    .dataframe thead th {\n",
       "        text-align: right;\n",
       "    }\n",
       "</style>\n",
       "<table border=\"1\" class=\"dataframe\">\n",
       "  <thead>\n",
       "    <tr style=\"text-align: right;\">\n",
       "      <th></th>\n",
       "      <th>price</th>\n",
       "      <th>review_count</th>\n",
       "    </tr>\n",
       "  </thead>\n",
       "  <tbody>\n",
       "    <tr>\n",
       "      <th>price</th>\n",
       "      <td>1.00</td>\n",
       "      <td>-0.33</td>\n",
       "    </tr>\n",
       "    <tr>\n",
       "      <th>review_count</th>\n",
       "      <td>-0.33</td>\n",
       "      <td>1.00</td>\n",
       "    </tr>\n",
       "  </tbody>\n",
       "</table>\n",
       "</div>"
      ],
      "text/plain": [
       "              price  review_count\n",
       "price          1.00         -0.33\n",
       "review_count  -0.33          1.00"
      ]
     },
     "execution_count": 44,
     "metadata": {},
     "output_type": "execute_result"
    }
   ],
   "source": [
    "# 이상치 제거 후 상관계수\n",
    "data_rm_outliers.corr()"
   ]
  },
  {
   "cell_type": "code",
   "execution_count": 45,
   "metadata": {
    "ExecuteTime": {
     "end_time": "2021-11-30T09:02:28.500604Z",
     "start_time": "2021-11-30T09:02:28.301054Z"
    }
   },
   "outputs": [
    {
     "data": {
      "image/png": "[encoded data removed]",
      "text/plain": [
       "<Figure size 360x360 with 2 Axes>"
      ]
     },
     "metadata": {},
     "output_type": "display_data"
    }
   ],
   "source": [
    "import matplotlib.pyplot as plt \n",
    "import seaborn as sns    \n",
    "\n",
    "plt.figure(figsize=(5,5))\n",
    "sns.heatmap(data = data_rm_outliers.corr(), annot=True, fmt = '.2f', linewidths=.5, cmap='Blues')\n",
    "plt.show()"
   ]
  }
 ],
 "metadata": {
  "hide_input": false,
  "kernelspec": {
   "display_name": "Python 3",
   "language": "python",
   "name": "python3"
  },
  "language_info": {
   "codemirror_mode": {
    "name": "ipython",
    "version": 3
   },
   "file_extension": ".py",
   "mimetype": "text/x-python",
   "name": "python",
   "nbconvert_exporter": "python",
   "pygments_lexer": "ipython3",
   "version": "3.8.3"
  },
  "toc": {
   "base_numbering": 1,
   "nav_menu": {},
   "number_sections": true,
   "sideBar": true,
   "skip_h1_title": false,
   "title_cell": "Table of Contents",
   "title_sidebar": "Contents",
   "toc_cell": false,
   "toc_position": {
    "height": "calc(100% - 180px)",
    "left": "10px",
    "top": "150px",
    "width": "213.333px"
   },
   "toc_section_display": true,
   "toc_window_display": true
  },
  "varInspector": {
   "cols": {
    "lenName": 16,
    "lenType": 16,
    "lenVar": 40
   },
   "kernels_config": {
    "python": {
     "delete_cmd_postfix": "",
     "delete_cmd_prefix": "del ",
     "library": "var_list.py",
     "varRefreshCmd": "print(var_dic_list())"
    },
    "r": {
     "delete_cmd_postfix": ") ",
     "delete_cmd_prefix": "rm(",
     "library": "var_list.r",
     "varRefreshCmd": "cat(var_dic_list()) "
    }
   },
   "types_to_exclude": [
    "module",
    "function",
    "builtin_function_or_method",
    "instance",
    "_Feature"
   ],
   "window_display": false
  }
 },
 "nbformat": 4,
 "nbformat_minor": 4
}
